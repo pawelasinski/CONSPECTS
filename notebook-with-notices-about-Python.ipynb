{
 "cells": [
  {
   "cell_type": "markdown",
   "metadata": {},
   "source": [
    "The following trinity allows rewriting the file\n",
    "\n",
    "f.seek(0)\n",
    "f.writelines(lines)\n",
    "f.truncate()"
   ]
  },
  {
   "cell_type": "markdown",
   "metadata": {},
   "source": [
    "---"
   ]
  },
  {
   "cell_type": "code",
   "execution_count": null,
   "metadata": {},
   "outputs": [],
   "source": [
    "my_dict = {1: \"a\", True: \"b\", 1.0: \"C\"}\n",
    "print(len(my_dict))"
   ]
  },
  {
   "cell_type": "markdown",
   "metadata": {},
   "source": [
    "---"
   ]
  },
  {
   "cell_type": "code",
   "execution_count": null,
   "metadata": {},
   "outputs": [],
   "source": [
    "my_lst = [\"hello\"]\n",
    "my_lst.extend(\"world\")\n",
    "my_lst.extend([\"world\"])\n",
    "print(my_lst)"
   ]
  },
  {
   "cell_type": "markdown",
   "metadata": {},
   "source": [
    "---"
   ]
  },
  {
   "cell_type": "code",
   "execution_count": null,
   "metadata": {},
   "outputs": [],
   "source": [
    "a = 1, 2, 3\n",
    "b = reversed(a)\n",
    "sorted(b)\n",
    "# b = sorted(reversed(a))\n",
    "print(sorted(a) == sorted(b))"
   ]
  },
  {
   "cell_type": "markdown",
   "metadata": {},
   "source": [
    "---"
   ]
  },
  {
   "cell_type": "code",
   "execution_count": null,
   "metadata": {},
   "outputs": [],
   "source": [
    "# pow(base, exp, mod) == (base ** exp) % mod\n",
    "\n",
    "print(pow(2, 2, 10) == 2 ** 2 % 10)"
   ]
  },
  {
   "cell_type": "markdown",
   "metadata": {},
   "source": [
    "---"
   ]
  },
  {
   "cell_type": "code",
   "execution_count": null,
   "metadata": {},
   "outputs": [],
   "source": [
    "# all() -> TypeError\n",
    "# min() -> TypeError\n",
    "# divmod() -> TypeError\n",
    "float()  # -> 0.0"
   ]
  },
  {
   "cell_type": "markdown",
   "metadata": {},
   "source": [
    "---"
   ]
  },
  {
   "cell_type": "code",
   "execution_count": null,
   "metadata": {},
   "outputs": [],
   "source": [
    "\"\"\"Дескрипторы — это классы, которые позволяют вам делать управляемыми свойства, атрибуты в другом классе.\n",
    "В частности, они реализуют интерфейс для методов __get__(), __set__() и __delete__().\n",
    "\"\"\"\n",
    "\n",
    "class Celsius:\n",
    "    def __init__(self, value=0.0):\n",
    "        self.value = float(value)\n",
    "\n",
    "    def __get__(self, instance, owner):\n",
    "        return self.value\n",
    "\n",
    "    def __set__(self, instance, value):\n",
    "        self.value = float(value)\n",
    "\n",
    "\n",
    "class Temperature:\n",
    "    celsius = Celsius()\n",
    "\n",
    "    @property\n",
    "    def fahrenheit(self):\n",
    "        return self.celsius * 9 / 5 + 32\n",
    "\n",
    "    @fahrenheit.setter\n",
    "    def fahrenheit(self, value):\n",
    "        self.celsius = (float(value) - 32) * 5 / 9\n",
    "\n",
    "\n",
    "temp = Temperature()\n",
    "temp.celsius = 30  # Установка температуры в градусах Цельсия\n",
    "print(temp.fahrenheit)  # Получение температуры в градусах Фаренгейта, вывод: 86.0\n",
    "\n",
    "temp.fahrenheit = 86  # Установка температуры в градусах Фаренгейта\n",
    "print(temp.celsius)  # Получение температуры в градусах Цельсия, вывод: 30.0"
   ]
  },
  {
   "cell_type": "markdown",
   "metadata": {},
   "source": [
    "---"
   ]
  },
  {
   "cell_type": "code",
   "execution_count": 1,
   "metadata": {},
   "outputs": [
    {
     "ename": "AssertionError",
     "evalue": "На ноль делить нельзя",
     "output_type": "error",
     "traceback": [
      "\u001b[0;31m---------------------------------------------------------------------------\u001b[0m",
      "\u001b[0;31mAssertionError\u001b[0m                            Traceback (most recent call last)",
      "Cell \u001b[0;32mIn[1], line 10\u001b[0m\n\u001b[1;32m      7\u001b[0m \t\u001b[38;5;28;01massert\u001b[39;00m y \u001b[38;5;241m!=\u001b[39m \u001b[38;5;241m0\u001b[39m, \u001b[38;5;124m\"\u001b[39m\u001b[38;5;124mНа ноль делить нельзя\u001b[39m\u001b[38;5;124m\"\u001b[39m\n\u001b[1;32m      8\u001b[0m \t\u001b[38;5;28;01mreturn\u001b[39;00m x \u001b[38;5;241m/\u001b[39m y\n\u001b[0;32m---> 10\u001b[0m \u001b[38;5;28mprint\u001b[39m(\u001b[43mdivide\u001b[49m\u001b[43m(\u001b[49m\u001b[38;5;241;43m6\u001b[39;49m\u001b[43m,\u001b[49m\u001b[43m \u001b[49m\u001b[38;5;241;43m0\u001b[39;49m\u001b[43m)\u001b[49m)  \u001b[38;5;66;03m# AssertionError: На ноль делить нельзя\u001b[39;00m\n",
      "Cell \u001b[0;32mIn[1], line 7\u001b[0m, in \u001b[0;36mdivide\u001b[0;34m(x, y)\u001b[0m\n\u001b[1;32m      6\u001b[0m \u001b[38;5;28;01mdef\u001b[39;00m \u001b[38;5;21mdivide\u001b[39m(x, y) :\n\u001b[0;32m----> 7\u001b[0m \t\u001b[38;5;28;01massert\u001b[39;00m y \u001b[38;5;241m!=\u001b[39m \u001b[38;5;241m0\u001b[39m, \u001b[38;5;124m\"\u001b[39m\u001b[38;5;124mНа ноль делить нельзя\u001b[39m\u001b[38;5;124m\"\u001b[39m\n\u001b[1;32m      8\u001b[0m \t\u001b[38;5;28;01mreturn\u001b[39;00m x \u001b[38;5;241m/\u001b[39m y\n",
      "\u001b[0;31mAssertionError\u001b[0m: На ноль делить нельзя"
     ]
    }
   ],
   "source": [
    "# Оператор assert в Python используется для отладки и написания тестов. Это утверждение, которое проверяет, является ли условие истинным.\n",
    "# Если условие истинно, выполнение программы продолжается. Если условие ложно, оператор assert вызывает исключение AssertionError, что приводит к остановке выполнения программы, также можно добавить дополнительное сообщение, которое будет выводиться при ошибке.\n",
    "# В нашем коде это Apple, но как правильно подметил наш подписчик, мы бы получили AssertionError: None, поскольку функция print возвращает None.\n",
    "\n",
    "\n",
    "def divide(x, y) :\n",
    "\tassert y != 0, \"На ноль делить нельзя\"\n",
    "\treturn x / y\n",
    "\n",
    "print(divide(6, 0))  # AssertionError: На ноль делить нельзя"
   ]
  },
  {
   "cell_type": "markdown",
   "metadata": {},
   "source": [
    "---"
   ]
  },
  {
   "cell_type": "markdown",
   "metadata": {},
   "source": [
    "---"
   ]
  },
  {
   "cell_type": "code",
   "execution_count": null,
   "metadata": {
    "scrolled": true
   },
   "outputs": [],
   "source": [
    "# По умолчанию это будет запускать код 1 миллион раз в Linux и 20 миллионов раз в Windows и измерять лучшее время среди этих значений.\n",
    "! python3 -m timeit 'print(\"Hello world!\")'"
   ]
  },
  {
   "cell_type": "code",
   "execution_count": null,
   "metadata": {},
   "outputs": [],
   "source": [
    "import timeit\n",
    "import numpy as np"
   ]
  },
  {
   "cell_type": "code",
   "execution_count": null,
   "metadata": {},
   "outputs": [],
   "source": [
    "print(timeit.timeit('\"-\".join(str(n) for n in range(100))', number=10000))\n",
    "print(timeit.timeit('\"-\".join([str(n) for n in range(100)])', number=10000))\n",
    "print(timeit.timeit('\"-\".join(map(str, range(100)))', number=10000))"
   ]
  },
  {
   "cell_type": "code",
   "execution_count": null,
   "metadata": {},
   "outputs": [],
   "source": [
    "# Блок кода настройки выполняет всю необходимую работу по настройке всех необходимых модулей и переменных.\n",
    "# timeit гарантирует, что настройка будет выполнена до измерения вашего основного цикла, поэтому он выполняется только один раз.\n",
    "\n",
    "setup_code = \"\"\"\n",
    "import numpy as np\n",
    "a = np.arange(0, 1000)\n",
    "print(a.shape)\n",
    "def print_subarrays(a):\n",
    "    op = []\n",
    "    for i in range(a.shape[0]):\n",
    "        op.append(a[:i])\n",
    "\"\"\"    \n",
    "    \n",
    "main_block = \"\"\"\n",
    "print_subarrays(a)\n",
    "\"\"\"\n",
    "\n",
    "print('Best execution Time among 1000 iterations:', timeit.timeit(setup=setup_code, stmt=main_block, number=1000))"
   ]
  },
  {
   "cell_type": "code",
   "execution_count": null,
   "metadata": {},
   "outputs": [],
   "source": [
    "def time_range(size):\n",
    "    for i in range(size):\n",
    "        pass \n",
    "\n",
    "def time_arange(size):\n",
    "    np.arange(size)\n",
    "\n",
    "start_time = timeit.default_timer()\n",
    "time_range(1000) \n",
    "time_1 = timeit.default_timer() - start_time\n",
    "\n",
    "start_time = timeit.default_timer()\n",
    "time_arange(1000)\n",
    "time_2 = timeit.default_timer() - start_time \n",
    "\n",
    "print('Function 1 took', time_1)\n",
    "print('Function 2 took', time_2)"
   ]
  },
  {
   "cell_type": "code",
   "execution_count": null,
   "metadata": {},
   "outputs": [],
   "source": [
    "# Если предыдущий модуль назывался бы numpy_compare.py.\n",
    "\n",
    "! python3 -m timeit -s 'import numpy_compare' 'numpy_compare.time_range(1000)'"
   ]
  },
  {
   "cell_type": "code",
   "execution_count": null,
   "metadata": {},
   "outputs": [],
   "source": []
  },
  {
   "cell_type": "markdown",
   "metadata": {},
   "source": [
    "---"
   ]
  },
  {
   "cell_type": "markdown",
   "metadata": {},
   "source": [
    "---"
   ]
  },
  {
   "cell_type": "markdown",
   "metadata": {},
   "source": [
    "---"
   ]
  },
  {
   "cell_type": "code",
   "execution_count": null,
   "metadata": {},
   "outputs": [],
   "source": []
  },
  {
   "cell_type": "code",
   "execution_count": null,
   "metadata": {},
   "outputs": [],
   "source": []
  },
  {
   "cell_type": "code",
   "execution_count": null,
   "metadata": {},
   "outputs": [],
   "source": []
  },
  {
   "cell_type": "code",
   "execution_count": null,
   "metadata": {},
   "outputs": [],
   "source": []
  },
  {
   "cell_type": "code",
   "execution_count": null,
   "metadata": {},
   "outputs": [],
   "source": []
  },
  {
   "cell_type": "code",
   "execution_count": null,
   "metadata": {},
   "outputs": [],
   "source": []
  },
  {
   "cell_type": "code",
   "execution_count": null,
   "metadata": {},
   "outputs": [],
   "source": []
  },
  {
   "cell_type": "markdown",
   "metadata": {},
   "source": [
    "---"
   ]
  },
  {
   "cell_type": "markdown",
   "metadata": {},
   "source": [
    "---"
   ]
  },
  {
   "cell_type": "markdown",
   "metadata": {},
   "source": [
    "---"
   ]
  },
  {
   "cell_type": "code",
   "execution_count": null,
   "metadata": {},
   "outputs": [],
   "source": [
    "# test.py\n",
    "import sys\n",
    "\n",
    "def prn(a):\n",
    "    print(a)\n",
    "    \n",
    "def each(n):\n",
    "    for i in range(n):\n",
    "        prn(i)\n",
    "\n",
    "n = 2\n",
    "each(n)\n",
    "print('Первый элемент sys.argv:', sys.argv[0])\n",
    "\n",
    "---\n",
    "\n",
    "$ python3 -i test.py\n",
    "# 0\n",
    "# 1\n",
    "# Первый элемент sys.argv: prn.py\n",
    ">>> n = 3\n",
    ">>> each(n)\n",
    "# 0\n",
    "# 1\n",
    "# 2\n",
    ">>> prn('hello')\n",
    "# hello"
   ]
  },
  {
   "cell_type": "markdown",
   "metadata": {},
   "source": [
    "$ echo -e \"import sys\\npath = sys.path\\nfor line in path:\\n   print(line)\\n\" | python3\n",
    "$ python3 -c \"import sys;print(sys.argv[0]);line = 'Hello World';print(line)\""
   ]
  },
  {
   "cell_type": "markdown",
   "metadata": {},
   "source": [
    "---"
   ]
  },
  {
   "cell_type": "code",
   "execution_count": null,
   "metadata": {
    "pycharm": {
     "name": "#%%\n"
    }
   },
   "outputs": [],
   "source": [
    "# замыкание\n",
    "def foo(x):\n",
    "    \n",
    "    def bar(y):\n",
    "        return x + y\n",
    "    \n",
    "    return bar\n",
    "\n",
    "\n",
    "# baz = foo(1)\n",
    "# baz(2)\n",
    "foo(1)(2)"
   ]
  },
  {
   "cell_type": "code",
   "execution_count": null,
   "metadata": {
    "pycharm": {
     "name": "#%%\n"
    }
   },
   "outputs": [],
   "source": [
    "# декорирование\n",
    "def sum_lst(func):\n",
    "    \n",
    "    def inner(*args, **kwargs):\n",
    "        return sum(func(*args, **kwargs))\n",
    "    \n",
    "    return inner\n",
    "\n",
    "@sum_lst  # just_lst = sum_lst(just_lst)\n",
    "def just_lst(lst):\n",
    "    return lst\n",
    "\n",
    "\n",
    "just_lst([5, 5, 5])"
   ]
  },
  {
   "cell_type": "code",
   "execution_count": null,
   "metadata": {
    "pycharm": {
     "name": "#%%\n"
    }
   },
   "outputs": [],
   "source": [
    "# каррирование\n",
    "def foo(x):\n",
    "    return lambda y: x * x + y\n",
    "\n",
    "foo(1)(2)"
   ]
  },
  {
   "cell_type": "markdown",
   "metadata": {},
   "source": [
    "---"
   ]
  },
  {
   "cell_type": "code",
   "execution_count": null,
   "metadata": {},
   "outputs": [],
   "source": [
    "numbers = [12, 3, 7, 15, 8]\n",
    "\n",
    "diff = [abs(a - b) for a, b in zip(numbers, numbers[1:])]\n",
    "diff"
   ]
  },
  {
   "cell_type": "markdown",
   "metadata": {},
   "source": [
    "---"
   ]
  },
  {
   "cell_type": "code",
   "execution_count": null,
   "metadata": {
    "pycharm": {
     "name": "#%%\n"
    },
    "scrolled": true
   },
   "outputs": [],
   "source": [
    "import numpy as np\n",
    "np.lookfor('mean value of array')"
   ]
  },
  {
   "cell_type": "markdown",
   "metadata": {},
   "source": [
    "---"
   ]
  },
  {
   "cell_type": "code",
   "execution_count": null,
   "metadata": {},
   "outputs": [],
   "source": [
    "import sys\n",
    "sys.allow_boolean_assignment = 1\n",
    "\n",
    "Тrue = False\n",
    "if Тrue:\n",
    "    print(\"Тrue is Тrue\")\n",
    "else:\n",
    "    print(\"Тrue is False\")"
   ]
  },
  {
   "cell_type": "code",
   "execution_count": null,
   "metadata": {
    "pycharm": {
     "name": "#%%\n"
    }
   },
   "outputs": [],
   "source": [
    "import sys\n",
    "sys.getrecursionlimit()\n",
    "sys.setrecursionlimit()"
   ]
  },
  {
   "cell_type": "code",
   "execution_count": null,
   "metadata": {},
   "outputs": [],
   "source": [
    "# sys.getrefcount() - подсчет ссылок\n",
    "sys.getrefcount(1) # -> 99"
   ]
  },
  {
   "cell_type": "code",
   "execution_count": null,
   "metadata": {},
   "outputs": [],
   "source": [
    "# test.py\n",
    "import sys, os\n",
    "\n",
    "print('Список параметров, переданных скрипту')\n",
    "print(sys.argv)\n",
    "print('Исходные байты')\n",
    "print([os.fsencode(arg) for arg in sys.argv])\n",
    "\n",
    "---\n",
    "\n",
    "$ python3 test.py -file test.txt -pi 3.14\n",
    "# Список параметров, переданных скрипту\n",
    "# ['argv.py', '-file', 'test.txt', '-pi', '3.14']\n",
    "# Исходные байты\n",
    "# [b'argv.py', b'-file', b'test.txt', b'-pi', b'3.14']\n",
    "\n",
    "---\n",
    "---\n",
    "\n",
    "# test.py\n",
    "import sys\n",
    "\n",
    "print('Список параметров, переданных скрипту')\n",
    "print(sys.orig_argv)\n",
    "\n",
    "---\n",
    "\n",
    "$ python3 test.py -file test.txt -pi 3.14\n",
    "# Список параметров, переданных скрипту\n",
    "# ['python3', 'test.py', '-file', 'test.txt', '-pi', '3.14']"
   ]
  },
  {
   "cell_type": "code",
   "execution_count": null,
   "metadata": {},
   "outputs": [],
   "source": [
    "import sys\n",
    "\n",
    "for d in sys.path:\n",
    "    print(d)\n",
    "\n",
    "# /home/docs-python/python-3.7.4/docs-python\n",
    "# /home/docs-python/python-3.7.4/docs-python/lib/python37.zip\n",
    "# /home/docs-python/python-3.7.4/docs-python/lib/python3.7\n",
    "# /home/docs-python/python-3.7.4/docs-python/lib/python3.7/lib-dynload\n",
    "# /opt/python-3.7.4/lib/python3.7\n",
    "# /home/docs-python/python-3.7.4/docs-python/lib/python3.7/site-packages\n",
    "\n",
    "---\n",
    "---\n",
    "\n",
    "Создадим тестовый модуль test_md.py, который сохраним в директории ./md/test_md.py\n",
    "# test_md.py\n",
    "DATA = [1, 2, 3, 4, 5, 6, 7, 8, 9]\n",
    "\n",
    "---\n",
    "    \n",
    "import os\n",
    "import sys\n",
    "\n",
    "base_dir = os.path.dirname(__file__) or '.'\n",
    "print('Base directory:', base_dir)\n",
    "\n",
    "# добавление нового пути поиска\n",
    "dir_md = os.path.join(base_dir, 'md')\n",
    "sys.path.append(dir_md)\n",
    "\n",
    "import test_md\n",
    "print('Imported example from:', test_md.__file__)\n",
    "print('  ', test_md.DATA)\n",
    "\n",
    "# Base directory: .\n",
    "# Imported test_md from: ./md/test_md.py\n",
    "#    [1, 2, 3, 4, 5, 6, 7, 8, 9]"
   ]
  },
  {
   "cell_type": "markdown",
   "metadata": {},
   "source": [
    "---"
   ]
  },
  {
   "cell_type": "code",
   "execution_count": null,
   "metadata": {},
   "outputs": [],
   "source": [
    "print([1, 2, 3] * -2)\n",
    "print([1, 2, 3] * 0)"
   ]
  },
  {
   "cell_type": "code",
   "execution_count": null,
   "metadata": {
    "pycharm": {
     "name": "#%%\n"
    }
   },
   "outputs": [],
   "source": [
    "A = [0, 1, 2, 3, 4]\n",
    "A[:3] = [10, 20, 30]\n",
    "A"
   ]
  },
  {
   "cell_type": "code",
   "execution_count": null,
   "metadata": {
    "pycharm": {
     "name": "#%%\n"
    }
   },
   "outputs": [],
   "source": [
    "a = [1, 2, 3, None, (), [], ]\n",
    "b = (1, 2, 3, None, (), [], )\n",
    "c = {1, 2, 3, None, }\n",
    "print(a, b, c, sep='\\n')"
   ]
  },
  {
   "cell_type": "code",
   "execution_count": null,
   "metadata": {
    "pycharm": {
     "name": "#%%\n"
    }
   },
   "outputs": [],
   "source": [
    "A[1000:2000]  # No error!"
   ]
  },
  {
   "cell_type": "code",
   "execution_count": null,
   "metadata": {
    "pycharm": {
     "name": "#%%\n"
    }
   },
   "outputs": [],
   "source": [
    "A[::2] = [5, 6, 7]\n",
    "A"
   ]
  },
  {
   "cell_type": "code",
   "execution_count": null,
   "metadata": {
    "pycharm": {
     "name": "#%%\n"
    }
   },
   "outputs": [],
   "source": [
    "A[::2] = A[::-2]  # Времязатратная и ресурсоёмкая операция!\n",
    "A"
   ]
  },
  {
   "cell_type": "code",
   "execution_count": null,
   "metadata": {},
   "outputs": [],
   "source": [
    "# Да, кортеж — неизменяемый тип данных. Но нам ничто не мешает создать новый кортеж, добавив в него другой.\n",
    "var = (0, 1)\n",
    "\n",
    "print(var + (2, ))"
   ]
  },
  {
   "cell_type": "code",
   "execution_count": null,
   "metadata": {},
   "outputs": [],
   "source": [
    "0 / -1"
   ]
  },
  {
   "cell_type": "code",
   "execution_count": null,
   "metadata": {},
   "outputs": [],
   "source": [
    "def foo(x, /, y, *, z):\n",
    "    print(x + y + z)"
   ]
  },
  {
   "cell_type": "code",
   "execution_count": null,
   "metadata": {},
   "outputs": [],
   "source": [
    "var = {1, 3}\n",
    "var.update({1, 2})\n",
    "\n",
    "print(sorted(var))"
   ]
  },
  {
   "cell_type": "code",
   "execution_count": null,
   "metadata": {},
   "outputs": [],
   "source": [
    "+-+--6"
   ]
  },
  {
   "cell_type": "code",
   "execution_count": null,
   "metadata": {},
   "outputs": [],
   "source": [
    "bool()"
   ]
  },
  {
   "cell_type": "code",
   "execution_count": null,
   "metadata": {},
   "outputs": [],
   "source": [
    "__dir__, input, sum, print, abs = map, sum, input, int, print\n",
    "\n",
    "a, b = __dir__(print, sum().split())\n",
    "abs(input((a, b)))"
   ]
  },
  {
   "cell_type": "code",
   "execution_count": null,
   "metadata": {},
   "outputs": [],
   "source": [
    "\"hello\" 'world' == \"helloworld\""
   ]
  },
  {
   "cell_type": "code",
   "execution_count": null,
   "metadata": {},
   "outputs": [],
   "source": [
    "' 1      2  3        '.split()"
   ]
  },
  {
   "cell_type": "code",
   "execution_count": null,
   "metadata": {},
   "outputs": [],
   "source": [
    "напечатать = print\n",
    "напечатать(float('nan'))\n",
    "напечатать(float('-inf'))\n",
    "напечатать(float('inf'))"
   ]
  },
  {
   "cell_type": "code",
   "execution_count": null,
   "metadata": {
    "pycharm": {
     "name": "#%%\n"
    }
   },
   "outputs": [],
   "source": [
    "Ellipsis is ..."
   ]
  },
  {
   "cell_type": "markdown",
   "metadata": {},
   "source": [
    "---"
   ]
  },
  {
   "cell_type": "markdown",
   "metadata": {},
   "source": [
    "---"
   ]
  },
  {
   "cell_type": "markdown",
   "metadata": {},
   "source": [
    "---"
   ]
  },
  {
   "cell_type": "code",
   "execution_count": null,
   "metadata": {
    "scrolled": true
   },
   "outputs": [],
   "source": [
    "# Интроспекция\n",
    "\n",
    "class Foo:\n",
    "    \n",
    "    def __init__(self, val):\n",
    "        self.x = val\n",
    "        \n",
    "    def bar(self):\n",
    "        return self.x\n",
    "\n",
    "dir(Foo(5))"
   ]
  },
  {
   "cell_type": "code",
   "execution_count": null,
   "metadata": {},
   "outputs": [],
   "source": [
    "# Рефлексия\n",
    " \n",
    "# Без рефлексии\n",
    "obj = Foo()\n",
    "obj.hello()\n",
    " \n",
    "# С рефлексией\n",
    "class_name = \"Foo\"\n",
    "method = \"hello\"\n",
    "obj = globals()[class_name]()\n",
    "getattr(obj, method)()\n",
    " \n",
    "# С eval (небезопасно)\n",
    "eval(\"Foo().hello()\")"
   ]
  },
  {
   "cell_type": "markdown",
   "metadata": {},
   "source": [
    "---"
   ]
  },
  {
   "cell_type": "markdown",
   "metadata": {},
   "source": [
    "#### Арифметические действия выполняются в порядке очереди слева направо. Но возведение в степень в Python - наоборот."
   ]
  },
  {
   "cell_type": "markdown",
   "metadata": {},
   "source": [
    "---"
   ]
  },
  {
   "cell_type": "markdown",
   "metadata": {},
   "source": [
    "Когда-то давно Intel в своих процессорах зашила неправильную с точки зрения математиков модель целочисленного деления и деления по модулю. В архитектурно-ориентированных языках программирования (C, C++, Assembler, ...):\n",
    "\n",
    "-12 div 10 = -1  \n",
    "-12 mod 10 = -2  "
   ]
  },
  {
   "cell_type": "code",
   "execution_count": null,
   "metadata": {},
   "outputs": [],
   "source": [
    "7 // - 3"
   ]
  },
  {
   "cell_type": "code",
   "execution_count": null,
   "metadata": {},
   "outputs": [],
   "source": [
    "print(-12 // 10)  # Ближайшее снизу.\n",
    "print(-12 % 10)   # Всегда в диапазоне делителя (его группы (теория групп)), т.е. [0,10)."
   ]
  },
  {
   "cell_type": "code",
   "execution_count": null,
   "metadata": {},
   "outputs": [],
   "source": [
    "print(12 // -10)\n",
    "print(12 % -10)"
   ]
  },
  {
   "cell_type": "code",
   "execution_count": null,
   "metadata": {},
   "outputs": [],
   "source": [
    "print(-12 // -10)  # == 12 // 10\n",
    "print(-12 % -10)   # == -(12 % 10)"
   ]
  },
  {
   "cell_type": "markdown",
   "metadata": {},
   "source": [
    "---"
   ]
  },
  {
   "cell_type": "code",
   "execution_count": null,
   "metadata": {},
   "outputs": [],
   "source": [
    "from typing import cast\n",
    "\n",
    "def upper(s: str):\n",
    "    return s.upper()\n",
    "\n",
    "structure = {\"name\": \"Иваныч\"}\n",
    "\n",
    "upper(cast(str, structure))"
   ]
  },
  {
   "cell_type": "code",
   "execution_count": null,
   "metadata": {},
   "outputs": [],
   "source": [
    "from dataclasses import dataclass\n",
    "from typing import Literal\n",
    "\n",
    "\n",
    "@dataclass\n",
    "class User:\n",
    "    name: str\n",
    "    phone: str\n",
    "\n",
    "        \n",
    "def print_user_field(\n",
    "        user: User,\n",
    "        field: Literal[\"name\", \"phone\"]):\n",
    "    print(getattr(user, field))\n",
    "user = User(\"Petr\", \"02\")\n",
    "print_user_field(user, \"name\")\n",
    "print_user_field(user, \"phone\")\n",
    "print_user_field(user, \"incorrect\")\n",
    "        \n",
    "        \n",
    "# @dataclass\n",
    "# class User:\n",
    "#     username: str\n",
    "#     phone: str\n",
    "\n",
    "\n",
    "# def print_user_field(user: User, field: str):\n",
    "#     print(getattr(user, field))\n",
    "# user = User(\"Petr\", \"02\")\n",
    "# print_user_field(user, \"name\")\n",
    "# print_user_field(user, \"phone\")\n",
    "# print_user_field(user, \"incorrect\")"
   ]
  },
  {
   "cell_type": "markdown",
   "metadata": {},
   "source": [
    "---"
   ]
  },
  {
   "cell_type": "code",
   "execution_count": null,
   "metadata": {},
   "outputs": [],
   "source": [
    "def double_it_1(func):\n",
    "    return lambda *args: func(*args) * 2\n",
    "     \n",
    "    \n",
    "def double_it_2(func):\n",
    "    def inner(*args):\n",
    "        return func(*args) * 2\n",
    "    return inner"
   ]
  },
  {
   "cell_type": "markdown",
   "metadata": {},
   "source": [
    "---"
   ]
  },
  {
   "cell_type": "code",
   "execution_count": null,
   "metadata": {},
   "outputs": [],
   "source": [
    "from numbers import Number\n",
    "\n",
    "# Целые числа являются наследниками Number\n",
    "print(isinstance(1729, Number))\n",
    "\n",
    "# Числа с плавающей точкой являются наследниками Number\n",
    "print(isinstance(3.14, Number))\n",
    "\n",
    "# Комплексные числа являются наследниками Number\n",
    "print(isinstance(1j, Number))\n"
   ]
  },
  {
   "cell_type": "code",
   "execution_count": null,
   "metadata": {},
   "outputs": [],
   "source": [
    "import numbers\n",
    "\n",
    "# Комплексные числа являются наследниками Complex\n",
    "print(isinstance(1j, numbers.Complex))\n",
    "\n",
    "# Комплексные числа не являются наследниками Real\n",
    "print(isinstance(1j, numbers.Real))\n",
    "\n",
    "# Числа с плавающей точкой являются наследниками Real\n",
    "print(isinstance(3.14, numbers.Real))\n",
    "\n",
    "# Числа с плавающей точкой не являются наследниками Rational\n",
    "print(isinstance(3.14, numbers.Rational))\n",
    "\n",
    "# Объекты Fractions - это не наследники Rational\n",
    "from fractions import Fraction\n",
    "print(isinstance(Fraction(1, 2), numbers.Rational))\n",
    "\n",
    "# Объекты Fractions - это не наследники Integral\n",
    "print(isinstance(Fraction(1, 2), numbers.Integral))\n",
    "\n",
    "# Целые числа - это наследники Integral\n",
    "print(isinstance(1729, numbers.Integral))\n",
    "\n",
    "# Логические значения - это наследники Integral\n",
    "print(isinstance(True, numbers.Integral))\n",
    "\n",
    "print(True == 1)\n",
    "print('False'[True])\n",
    "\n",
    "print(False == 0)\n",
    "print(1 / False)\n",
    "\n",
    "\n",
    "# Объяснение странностей сводится к особенностям реализации\n",
    "from decimal import Decimal\n",
    "print(isinstance(Decimal(\"3.14159\"), numbers.Number))"
   ]
  },
  {
   "cell_type": "markdown",
   "metadata": {},
   "source": [
    "Со строго математической точки зрения все числа с плавающей точкой — это рациональные числа, за исключением `float(«inf»)` и `float(«nan»)`. Но программисты используют их в роли аппроксимаций вещественных чисел и воспринимают их, по большей части, как вещественные числа.  \n",
    "Странность Python: `float(«nan»)` — это особое значение с плавающей точкой, представляющее собой «не число». Такие значения часто обозначают как NaN. Но, так как float — это числовой тип, isinstance(float(«nan»), Number) возвращает True.  \n",
    "Получается, что «не числа» — это числа."
   ]
  },
  {
   "cell_type": "markdown",
   "metadata": {
    "pycharm": {
     "name": "#%% md\n"
    }
   },
   "source": [
    "---"
   ]
  },
  {
   "cell_type": "code",
   "execution_count": null,
   "metadata": {},
   "outputs": [],
   "source": [
    "n = 255; print(n.to_bytes(length=2, byteorder=\"big\"))\n",
    "print((255).to_bytes(length=2, byteorder=\"little\"))\n",
    "\n",
    "print(n.to_bytes(length=1, byteorder=\"big\"))"
   ]
  },
  {
   "cell_type": "code",
   "execution_count": null,
   "metadata": {},
   "outputs": [],
   "source": [
    "m = 256; print(m.to_bytes(length=1, byteorder=\"big\"))"
   ]
  },
  {
   "cell_type": "code",
   "execution_count": null,
   "metadata": {},
   "outputs": [],
   "source": [
    "print(int.from_bytes(b'\\xff\\x00', byteorder=\"big\"))\n",
    "print(int.from_bytes(b'\\x00\\xff', byteorder=\"big\"))"
   ]
  },
  {
   "cell_type": "code",
   "execution_count": null,
   "metadata": {
    "pycharm": {
     "name": "#%%\n"
    }
   },
   "outputs": [],
   "source": [
    "from fractions import Fraction\n",
    "from decimal import Decimal\n",
    "\n",
    "# Из-за ошибки представления чисел с плавающей точкой.\n",
    "print(Fraction.from_float(0.1))\n",
    "print((0.1).as_integer_ratio())\n",
    "\n",
    "n = 1.0; print(n.is_integer())\n",
    "print((1.0).is_integer())\n",
    "print(\"0.5\".isdecimal())\n",
    "\n",
    "print(Decimal.from_float(0.1))\n",
    "print(format(Decimal.from_float(0.1), '.34'))"
   ]
  },
  {
   "cell_type": "markdown",
   "metadata": {
    "pycharm": {
     "name": "#%% md\n"
    }
   },
   "source": [
    "---"
   ]
  },
  {
   "cell_type": "code",
   "execution_count": null,
   "metadata": {
    "pycharm": {
     "name": "#%%\n"
    }
   },
   "outputs": [],
   "source": [
    "# если глубина вложенности известна\n",
    "def flatten(lst):\n",
    "    return [item for sublist in lst for item in sublist]\n",
    "\n",
    "\n",
    "lst = [[1, 2, 3], [3]]\n",
    "print(flatten(lst))"
   ]
  },
  {
   "cell_type": "code",
   "execution_count": null,
   "metadata": {
    "pycharm": {
     "name": "#%%\n"
    }
   },
   "outputs": [],
   "source": [
    "# и если нет\n",
    "from iteration_utilities import deepflatten\n",
    "\n",
    "lst = [[1, 2, 3], [4, [5], [6, 7]], [8, [9, [10]]]]\n",
    "print(list(deepflatten(lst, depth=3)))"
   ]
  },
  {
   "cell_type": "code",
   "execution_count": null,
   "metadata": {
    "pycharm": {
     "name": "#%%\n"
    }
   },
   "outputs": [],
   "source": [
    "def flatten(nst_lst):\n",
    "    if not nst_lst:\n",
    "        return []\n",
    "    if isinstance(nst_lst[0], list):\n",
    "        return flatten(nst_lst[0] + flatten(nst_lst[1:]))\n",
    "    return nst_lst[:1] + flatten(nst_lst[1:])\n",
    "\n",
    "\n",
    "lst = [[1, 2, 3], [4, [5], [6, 7]], [8, [9, [10]]]]\n",
    "print(flatten(lst))"
   ]
  },
  {
   "cell_type": "markdown",
   "metadata": {
    "pycharm": {
     "name": "#%% md\n"
    }
   },
   "source": [
    "---"
   ]
  },
  {
   "cell_type": "code",
   "execution_count": null,
   "metadata": {
    "pycharm": {
     "name": "#%%\n"
    }
   },
   "outputs": [],
   "source": [
    "# гарнтирует порядок элементов\n",
    "from collections import OrderedDict\n",
    "\n",
    "list(OrderedDict.fromkeys([1, 2, 3, 4, 1, 2, 3, 5]))"
   ]
  },
  {
   "cell_type": "markdown",
   "metadata": {
    "pycharm": {
     "name": "#%% md\n"
    }
   },
   "source": [
    "---"
   ]
  },
  {
   "cell_type": "code",
   "execution_count": null,
   "metadata": {
    "pycharm": {
     "name": "#%%\n"
    },
    "scrolled": true
   },
   "outputs": [],
   "source": [
    "def save_image_to_directory(image_data, file_name, desired_directory):\n",
    "    print(f\"{image_data}, {file_name}, {desired_directory}\")\n",
    "\n",
    "# событие 0 \n",
    "save_image_to_directory(\"image_data0_101\", \"event0_101.png\", \"folder_for_event0\")\n",
    "save_image_to_directory(\"image_data0_102\", \"event0_102.png\", \"folder_for_event0\")\n",
    "# + много других вызовов \n",
    "\n",
    "# событие 1 \n",
    "save_image_to_directory(\"image_data1_101\", \"event1_101.png\", \"folder_for_event1\")\n",
    "save_image_to_directory(\"image_data1_102\", \"event1_102.png\", \"folder_for_event1\")\n",
    "# + много других вызовов"
   ]
  },
  {
   "cell_type": "code",
   "execution_count": null,
   "metadata": {
    "pycharm": {
     "name": "#%%\n"
    }
   },
   "outputs": [],
   "source": [
    "# частичное применение функций\n",
    "from functools import partial\n",
    "\n",
    "# событие 0 \n",
    "save_image_for_event0 = partial(save_image_to_directory, desired_directory='folder_for_event0')\n",
    "save_image_for_event0(\"image_data0_101\", \"event0_101.png\")\n",
    "save_image_for_event0(\"image_data0_102\", \"event0_102.png\")\n",
    "\n",
    "# событие 1 \n",
    "save_image_for_event1 = partial(save_image_to_directory, desired_directory='folder_for_event1')\n",
    "save_image_for_event1(\"image_data1_101\", \"event1_101.png\")\n",
    "save_image_for_event1(\"image_data1_102\", \"event1_102.png\")"
   ]
  },
  {
   "cell_type": "markdown",
   "metadata": {
    "pycharm": {
     "name": "#%% md\n"
    }
   },
   "source": [
    "---"
   ]
  },
  {
   "cell_type": "code",
   "execution_count": null,
   "metadata": {
    "pycharm": {
     "name": "#%%\n"
    },
    "scrolled": true
   },
   "outputs": [],
   "source": [
    "matrix = [[1, 2, 3], [4, 5, 6]]\n",
    "matrix_T = [list(i) for i in zip(*matrix)]\n",
    "print(matrix_T)"
   ]
  },
  {
   "cell_type": "markdown",
   "metadata": {
    "pycharm": {
     "name": "#%% md\n"
    }
   },
   "source": [
    "---"
   ]
  },
  {
   "cell_type": "code",
   "execution_count": null,
   "metadata": {
    "pycharm": {
     "name": "#%%\n"
    }
   },
   "outputs": [],
   "source": [
    "lst = []\n",
    "\n",
    "def foo():\n",
    "    lst.append(1)\n",
    "    return\n",
    "\n",
    "def bar():\n",
    "    lst = 1\n",
    "    return\n",
    "\n",
    "def baz():\n",
    "    global lst\n",
    "    lst = 1\n",
    "    return"
   ]
  },
  {
   "cell_type": "markdown",
   "metadata": {
    "pycharm": {
     "name": "#%% md\n"
    }
   },
   "source": [
    "---"
   ]
  },
  {
   "cell_type": "code",
   "execution_count": null,
   "metadata": {
    "pycharm": {
     "name": "#%%\n"
    }
   },
   "outputs": [],
   "source": [
    "products = ['cherry', 'strawberry', 'banana']\n",
    "price = [2.5, 3, 5]\n",
    "cost = [1, 1.5, 2]\n",
    "for prod, p, c in zip(products, price, cost):\n",
    "    print(f'The profit of a box of {prod} is ${p - c}')"
   ]
  },
  {
   "cell_type": "code",
   "execution_count": null,
   "metadata": {
    "pycharm": {
     "name": "#%%\n"
    }
   },
   "outputs": [],
   "source": [
    "lst1 = [3, 2, 4, 1, 1]\n",
    "lst2 = ['three', 'two', 'four', 'one', 'one2']\n",
    "lst1, lst2 = zip(*sorted(zip(lst1, lst2)))\n",
    "print(lst1)\n",
    "print(lst2)"
   ]
  },
  {
   "cell_type": "code",
   "execution_count": null,
   "metadata": {
    "pycharm": {
     "name": "#%%\n"
    }
   },
   "outputs": [],
   "source": [
    "record = [(1, 'Elon Mask'), (2, 'Tim Cook'), (3, 'Bill Gates')]\n",
    "id_, leaders = zip(*record)\n",
    "print(id_)\n",
    "print(leaders)"
   ]
  },
  {
   "cell_type": "code",
   "execution_count": null,
   "metadata": {
    "pycharm": {
     "name": "#%%\n"
    }
   },
   "outputs": [],
   "source": [
    "id_ = [1, 2, 3, 4]\n",
    "record = zip(id_)\n",
    "print(list(record))"
   ]
  },
  {
   "cell_type": "markdown",
   "metadata": {
    "pycharm": {
     "name": "#%% md\n"
    }
   },
   "source": [
    "---"
   ]
  },
  {
   "cell_type": "code",
   "execution_count": null,
   "metadata": {
    "pycharm": {
     "name": "#%%\n"
    }
   },
   "outputs": [],
   "source": [
    "x = {1: 'one', 2: 'two'}\n",
    "y = {2: 'two', 3: 'three'}\n",
    "print({**x, **y})\n",
    "print(x | y)  # in Python 3.9"
   ]
  },
  {
   "cell_type": "markdown",
   "metadata": {
    "pycharm": {
     "name": "#%% md\n"
    }
   },
   "source": [
    "---"
   ]
  },
  {
   "cell_type": "code",
   "execution_count": null,
   "metadata": {
    "pycharm": {
     "name": "#%%\n"
    }
   },
   "outputs": [],
   "source": [
    "s = \"abracadabra\"\n",
    "dct = {}\n",
    "for word in s:\n",
    "    dct[word] = dct.get(word, 0) + 1\n",
    "\n",
    "print(dct)"
   ]
  },
  {
   "cell_type": "markdown",
   "metadata": {
    "pycharm": {
     "name": "#%% md\n"
    }
   },
   "source": [
    "---"
   ]
  },
  {
   "cell_type": "code",
   "execution_count": null,
   "metadata": {
    "pycharm": {
     "name": "#%%\n"
    }
   },
   "outputs": [],
   "source": [
    "from collections import namedtuple\n",
    "Point = namedtuple(\"Point\", 'x y')\n",
    "point1 = Point(1, 2)\n",
    "print(point1.x)\n",
    "print(point1[0])"
   ]
  },
  {
   "cell_type": "markdown",
   "metadata": {
    "pycharm": {
     "name": "#%% md\n"
    }
   },
   "source": [
    "---"
   ]
  },
  {
   "cell_type": "code",
   "execution_count": null,
   "metadata": {
    "pycharm": {
     "name": "#%%\n"
    }
   },
   "outputs": [],
   "source": [
    "# самые часто встречающиеся и длинные слова\n",
    "from collections import Counter\n",
    "\n",
    "text = \"lorem ipsum dolor sit amet amet amet\"\n",
    "words = text.split()\n",
    "counter = Counter(words)\n",
    "\n",
    "most_common, occurrences = counter.most_common()[0]\n",
    "longest = max(words, key=len)\n",
    "\n",
    "print(most_common, occurrences, longest)"
   ]
  },
  {
   "cell_type": "markdown",
   "metadata": {
    "pycharm": {
     "name": "#%% md\n"
    }
   },
   "source": [
    "---"
   ]
  },
  {
   "cell_type": "code",
   "execution_count": null,
   "metadata": {
    "pycharm": {
     "name": "#%%\n"
    }
   },
   "outputs": [],
   "source": [
    "# уникальна ли последовательность\n",
    "def all_unique(numbers):\n",
    "    return len(numbers) == len(set(numbers))"
   ]
  },
  {
   "cell_type": "markdown",
   "metadata": {
    "pycharm": {
     "name": "#%% md\n"
    }
   },
   "source": [
    "---"
   ]
  },
  {
   "cell_type": "code",
   "execution_count": null,
   "metadata": {
    "pycharm": {
     "name": "#%%\n"
    }
   },
   "outputs": [],
   "source": [
    "# сумма цифр числа\n",
    "def sum_digits(num):\n",
    "    digits = [int(i) for i in str(num)]\n",
    "    return sum(digits)"
   ]
  },
  {
   "cell_type": "markdown",
   "metadata": {
    "pycharm": {
     "name": "#%% md\n"
    }
   },
   "source": [
    "---"
   ]
  },
  {
   "cell_type": "code",
   "execution_count": null,
   "metadata": {
    "pycharm": {
     "name": "#%%\n"
    }
   },
   "outputs": [],
   "source": [
    "# список файлов в указанной директории\n",
    "from os import listdir\n",
    "from os.path import isfile, join\n",
    "\n",
    "files = [f for f in listdir('/home') if isfile(join('/home', f))]"
   ]
  },
  {
   "cell_type": "markdown",
   "metadata": {
    "pycharm": {
     "name": "#%% md\n"
    }
   },
   "source": [
    "---"
   ]
  },
  {
   "cell_type": "code",
   "execution_count": null,
   "metadata": {
    "pycharm": {
     "name": "#%%\n"
    }
   },
   "outputs": [],
   "source": [
    "# 3 улюча с самыми выскоми значениями в словаре\n",
    "dct = {'a': 500, 'b': 5874, 'c': 560, 'd': 400, 'e': 5874, 'f': 20}\n",
    "result = sorted(dct, key=dct.get, reverse=True)[:3]\n",
    "print(result)"
   ]
  },
  {
   "cell_type": "markdown",
   "metadata": {
    "pycharm": {
     "name": "#%% md\n"
    }
   },
   "source": [
    "---"
   ]
  },
  {
   "cell_type": "code",
   "execution_count": null,
   "metadata": {
    "pycharm": {
     "name": "#%%\n"
    }
   },
   "outputs": [],
   "source": [
    "from platform import python_version\n",
    "python_version()"
   ]
  },
  {
   "cell_type": "markdown",
   "metadata": {
    "pycharm": {
     "name": "#%% md\n"
    }
   },
   "source": [
    "---"
   ]
  },
  {
   "cell_type": "code",
   "execution_count": null,
   "metadata": {
    "pycharm": {
     "name": "#%%\n"
    }
   },
   "outputs": [],
   "source": [
    "class Something:\n",
    "    \n",
    "    def some(self):\n",
    "        raise NotImplementedError"
   ]
  },
  {
   "cell_type": "markdown",
   "metadata": {
    "pycharm": {
     "name": "#%% md\n"
    }
   },
   "source": [
    "---"
   ]
  },
  {
   "cell_type": "code",
   "execution_count": null,
   "metadata": {
    "pycharm": {
     "name": "#%%\n"
    }
   },
   "outputs": [],
   "source": [
    "list_0 = [1, 2, 3]\n",
    "print(id(list_0))\n",
    "del list_0"
   ]
  },
  {
   "cell_type": "code",
   "execution_count": null,
   "metadata": {
    "pycharm": {
     "name": "#%%\n"
    }
   },
   "outputs": [],
   "source": [
    "list_1 = []\n",
    "print(id(list_1))"
   ]
  },
  {
   "cell_type": "markdown",
   "metadata": {
    "pycharm": {
     "name": "#%% md\n"
    }
   },
   "source": [
    "---"
   ]
  },
  {
   "cell_type": "code",
   "execution_count": null,
   "metadata": {
    "pycharm": {
     "name": "#%%\n"
    }
   },
   "outputs": [],
   "source": [
    "print(*map(lambda x: x[0] * x[1], enumerate('PAVEL')))"
   ]
  },
  {
   "cell_type": "markdown",
   "metadata": {
    "pycharm": {
     "name": "#%% md\n"
    }
   },
   "source": [
    "---"
   ]
  },
  {
   "cell_type": "code",
   "execution_count": null,
   "metadata": {
    "pycharm": {
     "name": "#%%\n"
    }
   },
   "outputs": [],
   "source": [
    "class SelfIter:    \n",
    "    def __init__(self, limit):\n",
    "        self.limit = limit\n",
    "        self.count = 0\n",
    "        \n",
    "    def __iter__(self):\n",
    "        return self\n",
    "    \n",
    "    def __next__(self, ):\n",
    "        if self.count < self.limit:\n",
    "            self.count += 1\n",
    "            return 1\n",
    "        raise StopIteration"
   ]
  },
  {
   "cell_type": "markdown",
   "metadata": {
    "pycharm": {
     "name": "#%% md\n"
    }
   },
   "source": [
    "---"
   ]
  },
  {
   "cell_type": "code",
   "execution_count": null,
   "metadata": {
    "pycharm": {
     "name": "#%%\n"
    }
   },
   "outputs": [],
   "source": [
    "import contextlib\n",
    "from urllib.request import urlopen\n",
    "\n",
    "with contextlib.closing(urlopen(\"http://www.python.org/\")) as front_page:\n",
    "    for line in front_page:\n",
    "        print(line)"
   ]
  },
  {
   "cell_type": "markdown",
   "metadata": {
    "pycharm": {
     "name": "#%% md\n"
    }
   },
   "source": [
    "___"
   ]
  },
  {
   "cell_type": "code",
   "execution_count": null,
   "metadata": {
    "pycharm": {
     "name": "#%%\n"
    }
   },
   "outputs": [],
   "source": [
    "from itertools import count, repeat, cycle, chain, islice\n",
    "\n",
    "<iter> = count(start=0, step=1)               # Returns updated value endlessly. Accepts floats.\n",
    "<iter> = repeat(<el> [, times])               # Returns element endlessly or 'times' times.\n",
    "<iter> = cycle(<collection>)                  # Repeats the sequence endlessly.\n",
    "\n",
    "<iter> = chain(<coll_1>, <coll_2> [, ...])    # Empties collections in order.\n",
    "<iter> = chain.from_iterable(<collection>)    # Empties collections inside a collection in order.\n",
    "\n",
    "<iter> = islice(<coll>, to_exclusive)         # Only returns first 'to_exclusive' elements.\n",
    "<iter> = islice(<coll>, from_inclusive, ...)  # `to_exclusive, step_size`."
   ]
  },
  {
   "cell_type": "markdown",
   "metadata": {
    "pycharm": {
     "name": "#%% md\n"
    }
   },
   "source": [
    "---"
   ]
  },
  {
   "cell_type": "code",
   "execution_count": null,
   "metadata": {
    "pycharm": {
     "name": "#%%\n"
    }
   },
   "outputs": [],
   "source": [
    "maths = [1, 2, 3]\n",
    "physics = [1, 2, 3]\n",
    "\n",
    "res1 = [x + y for x, y in zip(maths, physics)]\n",
    "print(res1)\n",
    "\n",
    "import operator\n",
    "res2 = list(map(operator.add, maths, physics))\n",
    "print(res2)\n",
    "\n",
    "res3 = np.add(maths, physics)\n",
    "print(res3)"
   ]
  },
  {
   "cell_type": "markdown",
   "metadata": {
    "pycharm": {
     "name": "#%% md\n"
    }
   },
   "source": [
    "___"
   ]
  },
  {
   "cell_type": "code",
   "execution_count": null,
   "metadata": {
    "pycharm": {
     "name": "#%%\n"
    }
   },
   "outputs": [],
   "source": [
    "lst3 = [1, 2, 3, 4]\n",
    "\n",
    "from numpy import cumsum\n",
    "cumsum(lst3)\n",
    "\n",
    "from itertools import accumulate\n",
    "list(accumulate(lst3))\n",
    "\n",
    "total = 0\n",
    "[total := total + x for x in lst3]"
   ]
  },
  {
   "cell_type": "markdown",
   "metadata": {},
   "source": [
    "---"
   ]
  },
  {
   "cell_type": "markdown",
   "metadata": {},
   "source": [
    "Ячейки ОП принято записывать в шестнадцатеричной СИ.  \n",
    "Stack - упорядоченная область ОП. Heap - неупорядоченная область ОП.  \n",
    "А/делокация ОП в стеке происходит очень быстро. Нельзя класть большие данные и размер которых предварительно неизвестен.  \n",
    "Чтобы алоцировать место в куче, нужно затратить время. Для динамических данных либо ищется более объемный участок кучи, либо конец старого блока памяти соединяется с новым, более объемным.  \n",
    "Если говорить о низкоуровневых ЯП (Rust, например), то данные, размер которых известен во время компиляции, хранятся в стеке, а размер, которых неизвестен, - в куче. У CPython все данные хранятся только в куче, а стеке лишь ссылки на них.  \n",
    "https://youtu.be/8GpI0PAGniA"
   ]
  },
  {
   "cell_type": "markdown",
   "metadata": {},
   "source": [
    "---"
   ]
  },
  {
   "cell_type": "code",
   "execution_count": null,
   "metadata": {},
   "outputs": [],
   "source": [
    "# Yes\n",
    "\n",
    "tmp_file = '/tmp/somefile.txt'\n",
    "\n",
    "try:\n",
    "    f = open(tmp_file)\n",
    "except IOError:\n",
    "    print('You have insufficient access rights!')\n",
    "else:\n",
    "    with f:\n",
    "        print(f.read())"
   ]
  },
  {
   "cell_type": "code",
   "execution_count": null,
   "metadata": {},
   "outputs": [],
   "source": [
    "# No\n",
    "# Here race condition might be.\n",
    "\n",
    "import os\n",
    "\n",
    "tmp_file = '/tmp/somefile.txt'\n",
    "\n",
    "if os.access(tmp_file, os.R_OK):\n",
    "    with open(tmp_file) as f:\n",
    "        print(f.read())\n",
    "else:\n",
    "    print('You have insufficient access rights!')"
   ]
  },
  {
   "cell_type": "markdown",
   "metadata": {},
   "source": [
    "---"
   ]
  },
  {
   "cell_type": "code",
   "execution_count": null,
   "metadata": {},
   "outputs": [],
   "source": [
    "dct = {float(\"nan\"): 1}\n",
    "dct[float(\"nan\")] = 2\n",
    "\n",
    "len(dct)"
   ]
  },
  {
   "cell_type": "markdown",
   "metadata": {},
   "source": [
    "---"
   ]
  },
  {
   "cell_type": "code",
   "execution_count": null,
   "metadata": {},
   "outputs": [],
   "source": [
    "bool(float(\"nan\"))"
   ]
  },
  {
   "cell_type": "markdown",
   "metadata": {},
   "source": [
    "---"
   ]
  },
  {
   "cell_type": "code",
   "execution_count": null,
   "metadata": {},
   "outputs": [],
   "source": [
    "class chain_sum(int):\n",
    "    def __call__(self, addition=0):\n",
    "        return chain_sum(self + addition)\n",
    "\n",
    "\n",
    "print(1 + chain_sum(5))\n",
    "print(1 + chain_sum(5)())"
   ]
  },
  {
   "cell_type": "code",
   "execution_count": null,
   "metadata": {},
   "outputs": [],
   "source": [
    "class chain_sum:\n",
    "    def __init__(self, number):\n",
    "        self._number = number\n",
    "\n",
    "    def __call__(self, value=0):\n",
    "        return chain_sum(self._number + value)\n",
    "    \n",
    "    def __str__(self):\n",
    "        return str(self._number)\n",
    "\n",
    "    \n",
    "print(chain_sum(5))\n",
    "print(chain_sum(5)(2))\n",
    "print(chain_sum(5)(100)(-10))"
   ]
  },
  {
   "cell_type": "code",
   "execution_count": null,
   "metadata": {},
   "outputs": [],
   "source": [
    "def chain_sum(number):\n",
    "    def wrapper(number2=None):\n",
    "        def inner():\n",
    "            wrapper.result += number2\n",
    "            return wrapper\n",
    "        logic = {\n",
    "            type(None): lambda: wrapper.result,\n",
    "            int: inner\n",
    "        }\n",
    "        return logic[type(number2)]()\n",
    "    wrapper.result = number\n",
    "    return wrapper\n",
    "\n",
    "\n",
    "assert chain_sum(5)() == 5\n",
    "assert chain_sum(5)(2)() == 7\n",
    "assert chain_sum(5)(100)(-10)() == 95"
   ]
  },
  {
   "cell_type": "code",
   "execution_count": null,
   "metadata": {},
   "outputs": [],
   "source": [
    "def chain_sum(number):\n",
    "    result = number\n",
    "    def wrapper(number2=None):\n",
    "        nonlocal result\n",
    "        try:\n",
    "            number2 = int(number2)\n",
    "        except TypeError:\n",
    "            return result\n",
    "        result += number2\n",
    "        return wrapper\n",
    "    return wrapper\n",
    "\n",
    "\n",
    "assert chain_sum(5)() == 5\n",
    "assert chain_sum(5)(2)() == 7\n",
    "assert chain_sum(5)(100)(-10)() == 95"
   ]
  },
  {
   "cell_type": "code",
   "execution_count": null,
   "metadata": {},
   "outputs": [],
   "source": [
    "def chain_sum(number):\n",
    "    def wrapper(number2=None):\n",
    "        if number2 is None:\n",
    "            return wrapper.result\n",
    "        wrapper.result += number2\n",
    "        return wrapper\n",
    "    wrapper.result = number\n",
    "    return wrapper\n",
    "\n",
    "\n",
    "assert chain_sum(5)() == 5\n",
    "assert chain_sum(5)(2)() == 7\n",
    "assert chain_sum(5)(100)(-10)() == 95"
   ]
  },
  {
   "cell_type": "code",
   "execution_count": null,
   "metadata": {},
   "outputs": [],
   "source": [
    "def chain_sum(number):\n",
    "    result = number\n",
    "    def wrapper(number2=None):\n",
    "        nonlocal result\n",
    "        if number2 is None:\n",
    "            return result\n",
    "        result += number2\n",
    "        return wrapper\n",
    "    return wrapper\n",
    "\n",
    "\n",
    "assert chain_sum(5)() == 5\n",
    "assert chain_sum(5)(2)() == 7\n",
    "assert chain_sum(5)(100)(-10)() == 95"
   ]
  },
  {
   "cell_type": "markdown",
   "metadata": {},
   "source": [
    "---"
   ]
  },
  {
   "cell_type": "code",
   "execution_count": null,
   "metadata": {},
   "outputs": [],
   "source": [
    "import time\n",
    "\n",
    "start_time = time.monotonic()\n",
    "\n",
    "time.sleep(7)\n",
    "\n",
    "print(f'Прошло {time.monotonic() - start_time}')"
   ]
  },
  {
   "cell_type": "markdown",
   "metadata": {},
   "source": [
    "---"
   ]
  },
  {
   "cell_type": "markdown",
   "metadata": {},
   "source": [
    "https://tirinox.ru/python-vars/"
   ]
  },
  {
   "cell_type": "markdown",
   "metadata": {},
   "source": [
    "---"
   ]
  },
  {
   "cell_type": "code",
   "execution_count": null,
   "metadata": {
    "pycharm": {
     "name": "#%%\n"
    }
   },
   "outputs": [],
   "source": [
    "has_dublicates = lambda l1, l2: l1 != l2"
   ]
  },
  {
   "cell_type": "markdown",
   "metadata": {
    "pycharm": {
     "name": "#%% md\n"
    }
   },
   "source": [
    "---"
   ]
  },
  {
   "cell_type": "code",
   "execution_count": null,
   "metadata": {
    "pycharm": {
     "name": "#%%\n"
    }
   },
   "outputs": [],
   "source": [
    "s[i:j] = t\n",
    "s[i:j:k] = t\n",
    "\n",
    "del s[i:j]\n",
    "del s[i:j:k]"
   ]
  },
  {
   "cell_type": "markdown",
   "metadata": {
    "pycharm": {
     "name": "#%% md\n"
    }
   },
   "source": [
    "---"
   ]
  },
  {
   "cell_type": "code",
   "execution_count": null,
   "metadata": {
    "pycharm": {
     "name": "#%%\n"
    }
   },
   "outputs": [],
   "source": [
    "lst1 = ['A', 'B', 'C']\n",
    "lst2 = [1, 2, 3]\n",
    "\n",
    "\n",
    "dct1 = dict(zip(lst1, lst2))\n",
    "\n",
    "dct2 = {key: value for key, value in zip(lst1, lst2)}"
   ]
  },
  {
   "cell_type": "markdown",
   "metadata": {
    "pycharm": {
     "name": "#%% md\n"
    }
   },
   "source": [
    "___"
   ]
  },
  {
   "cell_type": "code",
   "execution_count": null,
   "metadata": {
    "pycharm": {
     "name": "#%%\n"
    }
   },
   "outputs": [],
   "source": [
    "dct = [{'Name': 'B', 'Age': 99}, {'Name': 'F', 'Age': 4}, {'Name': 'R', 'Age': 7}]\n",
    "\n",
    "\n",
    "dct.sort(key=lambda item: item.get('Age'))\n",
    "\n",
    "dct_new = sorted(dct, key=lambda item: item.get('Age'))\n",
    "\n",
    "from operator import itemgetter\n",
    "foo = itemgetter('Name')\n",
    "dct.sort(key=foo)"
   ]
  },
  {
   "cell_type": "markdown",
   "metadata": {},
   "source": [
    "---"
   ]
  },
  {
   "cell_type": "code",
   "execution_count": null,
   "metadata": {
    "scrolled": true
   },
   "outputs": [],
   "source": [
    "print(f\"{'string'}\")"
   ]
  },
  {
   "cell_type": "markdown",
   "metadata": {},
   "source": [
    "---"
   ]
  },
  {
   "cell_type": "markdown",
   "metadata": {},
   "source": [
    "Всё дело в том, что перед запуском кода интерпретатор пробегается по файлу (!) и смотрит на первые значения переменных (tup_one = (1, 2))\n",
    "\n",
    "Затем, встретив повтор, он просто подставляет изначальное значение на месте нового. Но работает это лишь в случае с неизменяемыми (!) типами данных."
   ]
  },
  {
   "cell_type": "code",
   "execution_count": null,
   "metadata": {},
   "outputs": [],
   "source": [
    "tup_one = (1, 2); tup_two = (1, 2)\n",
    "print(tup_one is tup_two)"
   ]
  },
  {
   "cell_type": "markdown",
   "metadata": {},
   "source": [
    "---"
   ]
  },
  {
   "cell_type": "code",
   "execution_count": null,
   "metadata": {},
   "outputs": [],
   "source": [
    "lst = list(range(5))\n",
    "num = id(lst)\n",
    "print(lst)\n",
    "lst[:] = [x for x in lst if x % 2]\n",
    "print(lst)\n",
    "\n",
    "print(id(lst) == num)\n",
    "print(lst[:])\n",
    "print(id(lst[:]) == num)"
   ]
  },
  {
   "cell_type": "markdown",
   "metadata": {},
   "source": [
    "---"
   ]
  },
  {
   "cell_type": "code",
   "execution_count": null,
   "metadata": {},
   "outputs": [],
   "source": [
    "from yaspin import yaspin\n",
    "\n",
    "\n",
    "with yaspin(text='Processing...') as spinner:\n",
    "    while True:\n",
    "        pass"
   ]
  },
  {
   "cell_type": "code",
   "execution_count": null,
   "metadata": {},
   "outputs": [],
   "source": [
    "import sys\n",
    "import time\n",
    "\n",
    "\n",
    "def teleprint(text, delay=0.05):\n",
    "    for char in text:\n",
    "        sys.stdout.write(char)\n",
    "        sys.stdout.flush()\n",
    "        time.sleep(delay)\n",
    "\n",
    "\n",
    "teleprint('Печать с задержкой!', delay=0.07)"
   ]
  },
  {
   "cell_type": "code",
   "execution_count": null,
   "metadata": {},
   "outputs": [],
   "source": [
    "from tqdm.notebook import tqdm\n",
    "from time import sleep"
   ]
  },
  {
   "cell_type": "code",
   "execution_count": null,
   "metadata": {},
   "outputs": [],
   "source": [
    "cnt = 0\n",
    "for i in tqdm(range(100)):\n",
    "    sleep(0.1)\n",
    "    cnt += 1"
   ]
  },
  {
   "cell_type": "code",
   "execution_count": null,
   "metadata": {},
   "outputs": [],
   "source": [
    "for i in tqdm(range(10), desc='Superloop'):  # trange(10, desc='Superloop')\n",
    "    for j in tqdm(range(100), desc=f'{i + 1} subloop', leave=False):\n",
    "        sleep(0.01)"
   ]
  },
  {
   "cell_type": "markdown",
   "metadata": {},
   "source": [
    "---"
   ]
  },
  {
   "cell_type": "code",
   "execution_count": null,
   "metadata": {},
   "outputs": [],
   "source": [
    "some_string = 'срезы'\n",
    "\n",
    "slc = slice(0, 3)\n",
    "print(some_string[slc])\n",
    "\n",
    "print(some_string[0] == some_string[0:1])\n",
    "print(list(some_string)[0] == list(some_string)[0:1])"
   ]
  },
  {
   "cell_type": "markdown",
   "metadata": {
    "pycharm": {
     "name": "#%% md\n"
    }
   },
   "source": [
    "___"
   ]
  },
  {
   "cell_type": "code",
   "execution_count": null,
   "metadata": {},
   "outputs": [],
   "source": [
    "expr1 = compile('x = 1\\nz = x + 5\\nprint(z)', 'test', 'exec')\n",
    "exec(expr1)"
   ]
  },
  {
   "cell_type": "code",
   "execution_count": null,
   "metadata": {},
   "outputs": [],
   "source": [
    "expr2 = 'name = \"John\"\\nprint(name)'\n",
    "exec(expr2)"
   ]
  },
  {
   "cell_type": "code",
   "execution_count": null,
   "metadata": {},
   "outputs": [],
   "source": [
    "expr3 = compile(\"print('4 + 5 =', 4+5)\", 'test', 'eval')\n",
    "eval(expr3)"
   ]
  },
  {
   "cell_type": "code",
   "execution_count": null,
   "metadata": {},
   "outputs": [],
   "source": [
    "expr4 = 'print(\"5 + 10 =\", (5+10))'\n",
    "eval(expr4)"
   ]
  },
  {
   "cell_type": "code",
   "execution_count": null,
   "metadata": {
    "scrolled": true
   },
   "outputs": [],
   "source": [
    "import ast\n",
    "\n",
    "expr5 = \"[1, 2, 3]\"\n",
    "ast.literal_eval(expr5)"
   ]
  },
  {
   "cell_type": "markdown",
   "metadata": {
    "pycharm": {
     "name": "#%% md\n"
    }
   },
   "source": [
    "___"
   ]
  },
  {
   "cell_type": "code",
   "execution_count": null,
   "metadata": {},
   "outputs": [],
   "source": [
    "# законы де Моргана (доказываются через диаграммы Эйлера)\n",
    "\n",
    "not (True and True) == (not True or not True)\n",
    "not (True or True) == (not True and not True)"
   ]
  },
  {
   "cell_type": "markdown",
   "metadata": {
    "pycharm": {
     "name": "#%% md\n"
    }
   },
   "source": [
    "___"
   ]
  },
  {
   "cell_type": "markdown",
   "metadata": {
    "pycharm": {
     "name": "#%% md\n"
    }
   },
   "source": [
    "__Инвертирующий оператор (~)__\n",
    "\n",
    "Он возвращает инвертированные двоичные числа. Другими словами, переворачивает биты. Битовая 2 — это 00000010. Ее инвертированная версия — 11111101. Это бинарная -3.\n",
    "\n",
    "~x = -(x + 1)"
   ]
  },
  {
   "cell_type": "code",
   "execution_count": null,
   "metadata": {
    "pycharm": {
     "name": "#%%\n"
    }
   },
   "outputs": [],
   "source": [
    "~2"
   ]
  },
  {
   "cell_type": "markdown",
   "metadata": {
    "pycharm": {
     "name": "#%% md\n"
    }
   },
   "source": [
    "__Бинарный сдвиг влево (<<)__\n",
    "\n",
    "Он сдвигает значение левого операнда на позицию, которая указана справа. Так, бинарная 2 — это 10. 2 << 2 сдвинет значение на две позиции влево и выйдет 1000 — это бинарная 8."
   ]
  },
  {
   "cell_type": "code",
   "execution_count": null,
   "metadata": {
    "pycharm": {
     "name": "#%%\n"
    },
    "scrolled": true
   },
   "outputs": [],
   "source": [
    "2 << 2"
   ]
  },
  {
   "cell_type": "markdown",
   "metadata": {},
   "source": [
    "Эквивалентно умножению на $2^{N}$."
   ]
  },
  {
   "cell_type": "code",
   "execution_count": null,
   "metadata": {},
   "outputs": [],
   "source": [
    "2 * 2**2"
   ]
  },
  {
   "cell_type": "markdown",
   "metadata": {
    "pycharm": {
     "name": "#%% md\n"
    }
   },
   "source": [
    "__Бинарный сдвиг вправо (>>)__\n",
    "\n",
    "Сдвигает значение левого оператора на позицию, указанную справа. Так, бинарная 3 — это 11. 3 >> 2 сдвинет значение на два положение вправо. Результат — 00, то есть 0. 3 >> 1 сдвинет на одну позицию вправо, а результатом будет 01 — бинарная 1."
   ]
  },
  {
   "cell_type": "code",
   "execution_count": null,
   "metadata": {
    "pycharm": {
     "name": "#%%\n"
    },
    "scrolled": true
   },
   "outputs": [],
   "source": [
    "3 >> 2"
   ]
  },
  {
   "cell_type": "markdown",
   "metadata": {},
   "source": [
    "Эквивалентно делению на $2^{N}$."
   ]
  },
  {
   "cell_type": "code",
   "execution_count": null,
   "metadata": {},
   "outputs": [],
   "source": [
    "2 // 2**2"
   ]
  },
  {
   "cell_type": "code",
   "execution_count": null,
   "metadata": {},
   "outputs": [],
   "source": [
    "-9 >> 2\n",
    "# 00001000(2) = 8(10)\n",
    "# 11110111(2) = -9(10)\n",
    "# 11111101(2) = -3"
   ]
  },
  {
   "cell_type": "markdown",
   "metadata": {
    "pycharm": {
     "name": "#%% md\n"
    }
   },
   "source": [
    "__Бинарное И (&)__\n",
    "\n",
    "Проводит побитовую операцию and над двумя значением. Здесь бинарная 2 — это 10, а 3 — 11. Результатом побитового and является 10 — бинарная 2."
   ]
  },
  {
   "cell_type": "code",
   "execution_count": null,
   "metadata": {
    "pycharm": {
     "name": "#%%\n"
    },
    "scrolled": true
   },
   "outputs": [],
   "source": [
    "2 & 3"
   ]
  },
  {
   "cell_type": "code",
   "execution_count": null,
   "metadata": {
    "scrolled": true
   },
   "outputs": [],
   "source": [
    "import time\n",
    "\n",
    "t1 = time.perf_counter()\n",
    "for num in range(1000):\n",
    "    if num % 2:\n",
    "        pass\n",
    "t2 = time.perf_counter()\n",
    "print(t2 - t1)"
   ]
  },
  {
   "cell_type": "code",
   "execution_count": null,
   "metadata": {
    "scrolled": true
   },
   "outputs": [],
   "source": [
    "import time\n",
    "\n",
    "t1 = time.perf_counter()\n",
    "for num in range(1000):\n",
    "    if num & 1:\n",
    "        pass\n",
    "t2 = time.perf_counter()\n",
    "print(t2 - t1)"
   ]
  },
  {
   "cell_type": "markdown",
   "metadata": {
    "pycharm": {
     "name": "#%% md\n"
    }
   },
   "source": [
    "__Бинарное ИЛИ (|)__\n",
    "\n",
    "Проводит побитовую операцию or на двух значениях. Здесь or для 10(2) и 11(3) возвращает 11(3)."
   ]
  },
  {
   "cell_type": "code",
   "execution_count": null,
   "metadata": {
    "pycharm": {
     "name": "#%%\n"
    }
   },
   "outputs": [],
   "source": [
    "2 | 3"
   ]
  },
  {
   "cell_type": "markdown",
   "metadata": {
    "pycharm": {
     "name": "#%% md\n"
    }
   },
   "source": [
    "__Бинарное ИЛИ НЕТ (^)__\n",
    "\n",
    "Проводит побитовую операцию xor (исключающее или) на двух значениях. Здесь результатом ИЛИ НЕ для 10(2) и 11(3) будет 01(1)."
   ]
  },
  {
   "cell_type": "code",
   "execution_count": null,
   "metadata": {
    "pycharm": {
     "name": "#%%\n"
    }
   },
   "outputs": [],
   "source": [
    "2 ^ 3"
   ]
  },
  {
   "cell_type": "markdown",
   "metadata": {},
   "source": [
    "---"
   ]
  },
  {
   "cell_type": "code",
   "execution_count": null,
   "metadata": {},
   "outputs": [],
   "source": [
    "a = 1\n",
    "b = 2\n",
    "\n",
    "# a ^= b\n",
    "# b ^= a\n",
    "# a ^= b\n",
    "\n",
    "# a *= b \n",
    "# b /= a \n",
    "# a /= b\n",
    "\n",
    "a += b \n",
    "b = a - b\n",
    "a -= b\n",
    "\n",
    "\n",
    "print(a, b)"
   ]
  },
  {
   "cell_type": "markdown",
   "metadata": {},
   "source": [
    "---"
   ]
  },
  {
   "cell_type": "code",
   "execution_count": null,
   "metadata": {
    "pycharm": {
     "name": "#%%\n"
    }
   },
   "outputs": [],
   "source": [
    "# калькулятор\n",
    "\n",
    "import operator\n",
    "\n",
    "\n",
    "action = {\n",
    "    \"+\": operator.add,\n",
    "    \"-\": operator.sub,\n",
    "    \"/\": operator.truediv,\n",
    "    \"//\": operator.floordiv,\n",
    "    \"%\": operator.mod,\n",
    "    \"*\": operator.mul,\n",
    "    \"**\": operator.pow\n",
    "}\n",
    "\n",
    "\n",
    "operation = input()\n",
    "x, y = map(float, input().split())\n",
    "print(action[operation](x, y))"
   ]
  },
  {
   "cell_type": "markdown",
   "metadata": {},
   "source": [
    "---"
   ]
  },
  {
   "cell_type": "markdown",
   "metadata": {},
   "source": [
    "#### Арифметические действия выполняются в порядке очереди слева направо. Но возведение в степень в Python - наоборот."
   ]
  },
  {
   "cell_type": "markdown",
   "metadata": {},
   "source": [
    "---"
   ]
  },
  {
   "cell_type": "markdown",
   "metadata": {},
   "source": [
    "Когда-то давно Intel в своих процессорах зашила неправильную с точки зрения математиков модель целочисленного деления и деления по модулю. В архитектурно-ориентированных языках программирования (C, C++, Assembler, ...):\n",
    "\n",
    "-12 div 10 = -1  \n",
    "-12 mod 10 = -2  "
   ]
  },
  {
   "cell_type": "code",
   "execution_count": null,
   "metadata": {},
   "outputs": [],
   "source": [
    "print(-12 // 10)  # Ближайшее снизу.\n",
    "print(-12 % 10)   # Всегда в диапазоне делителя (его группы (теория групп)), т.е. [0,10)."
   ]
  },
  {
   "cell_type": "code",
   "execution_count": null,
   "metadata": {},
   "outputs": [],
   "source": [
    "print(12 // -10)\n",
    "print(12 % -10)"
   ]
  },
  {
   "cell_type": "code",
   "execution_count": null,
   "metadata": {},
   "outputs": [],
   "source": [
    "print(-12 // -10)  # == 12 // 10\n",
    "print(-12 % -10)   # == -(12 % 10)"
   ]
  },
  {
   "cell_type": "markdown",
   "metadata": {},
   "source": [
    "---"
   ]
  },
  {
   "cell_type": "markdown",
   "metadata": {},
   "source": [
    "__\\_\\_pycache\\_\\___\n",
    "\n",
    "\n",
    "* `.pyc` - не зависят от платформы; лучше добавлять в список игнорирования, так как разработчики могут иметь разное время в своих системах; только ускоряет загрузку программы, но не ее фактическое выполнение (означает, что можно сократить время запуска, написав свою основную программу в модуле, который импортируется другим, меньшим модулем)\n",
    "* `.pyo` - заменяет файл .pyc, который был бы создан без оптимизации; при обновлении файла исходного кода файл .pyo обновляется всякий раз, когда время обновления исходного кода отличается от времени обновления файла байт-кода; оптимизатор удаляет утверждения assert из байт-кода  \n",
    "\n",
    "\n",
    "* `.pyd` - зависит от платформы для класса операционных систем Windows; файл библиотеки, содержащий код Python, который может вызываться и использоваться другими приложениями. Чтобы сделать эту библиотеку доступной для других программ, она упакована в виде библиотеки динамической компоновки (DLL); основное преимущество связывания с библиотеками во время выполнения заключается в том, что это облегчает повторное использование кода, модульную архитектуру и более быстрый запуск программы\n",
    "\n",
    "\n",
    "* `.pyi` - стабы (stubs), их назначение и формат описаны в PEP 484. Эти файлы вообще никак не используются интерпретатором, их назначение - предоставлять информацию о типизации кода. К примеру, есть сторонний модуль без типизации, который не твой, редактировать его ты не можешь, а прописать типы хотелось бы. Cтабы в Python вообще никак не влияют на работу программы, поскольку интерпретатор их не знает и не видит - они могут отсутствовать, содержать неверный код или вообще абракадабру; проверка типов в редакторе кода сломается, но сама программа будет работать дальше как ни в чем не бывало."
   ]
  },
  {
   "cell_type": "markdown",
   "metadata": {},
   "source": [
    "---"
   ]
  },
  {
   "cell_type": "markdown",
   "metadata": {},
   "source": [
    "__\\_\\_future\\_\\___ is a pseudo-module which programmers can use to enable new language features which are not compatible with the current interpreter."
   ]
  },
  {
   "cell_type": "markdown",
   "metadata": {},
   "source": [
    "---"
   ]
  },
  {
   "cell_type": "code",
   "execution_count": null,
   "metadata": {
    "scrolled": true
   },
   "outputs": [],
   "source": [
    "print(\"int: {0:d};  hex: {0:x};  oct: {0:o};  bin: {0:b}\".format(42))\n",
    "print(\"int: {0:d};  hex: {0:#x};  oct: {0:#o};  bin: {0:#b}\".format(42))"
   ]
  },
  {
   "cell_type": "markdown",
   "metadata": {},
   "source": [
    "---"
   ]
  },
  {
   "cell_type": "code",
   "execution_count": null,
   "metadata": {},
   "outputs": [],
   "source": [
    "# this method splits a list into smaller with a specified size\n",
    "def chunk(lst, n):\n",
    "    return [lst[i:i + n] for i in range(0, len(lst), n)]\n",
    "\n",
    "\n",
    "n = int(input())\n",
    "lst = list(map(int, input().split()))\n",
    "print(chunk(lst, n))"
   ]
  },
  {
   "cell_type": "markdown",
   "metadata": {},
   "source": [
    "---"
   ]
  },
  {
   "cell_type": "code",
   "execution_count": null,
   "metadata": {},
   "outputs": [],
   "source": [
    "iterable = 'Python'\n",
    "for i, item in enumerate(iterable, 1):\n",
    "    print(item, end='_' if i < len(iterable) else '\\n')"
   ]
  },
  {
   "cell_type": "markdown",
   "metadata": {},
   "source": [
    "---"
   ]
  },
  {
   "cell_type": "code",
   "execution_count": null,
   "metadata": {},
   "outputs": [],
   "source": [
    "seq = [1, 2, 3, 4, 2, 2, 3, 1, 4, 4, 4]\n",
    "print(max(set(seq), key = seq.count))"
   ]
  },
  {
   "cell_type": "markdown",
   "metadata": {},
   "source": [
    "---"
   ]
  },
  {
   "cell_type": "markdown",
   "metadata": {},
   "source": [
    "Стандарт IEEE 754 (используемый в Python) не способен представить числа больше $2^{53}$. Поэтому и num_one, и num_two округляются до 9007199254740992.0  \n",
    "https://docs-python.ru/tutorial/operatsii-chislami-python/problemy-chisel-plavajuschej-zapjatoj/"
   ]
  },
  {
   "cell_type": "code",
   "execution_count": null,
   "metadata": {
    "scrolled": true
   },
   "outputs": [],
   "source": [
    "num_one = float(2 ** 53)\n",
    "num_two = float(2 ** 53) + 1\n",
    "print(num_one == num_two)"
   ]
  },
  {
   "cell_type": "markdown",
   "metadata": {},
   "source": [
    "В отличие от многих языков, у int в Python 3 нет как такового предельного значения."
   ]
  },
  {
   "cell_type": "code",
   "execution_count": null,
   "metadata": {},
   "outputs": [],
   "source": [
    "2147483647 + 1"
   ]
  },
  {
   "cell_type": "markdown",
   "metadata": {},
   "source": [
    "---"
   ]
  },
  {
   "cell_type": "markdown",
   "metadata": {},
   "source": [
    "314159 было выбрано в CPython как значение по умолчанию (с явной отсылкой к числу Пи) Тимом Питерсом ещё в 2000 году."
   ]
  },
  {
   "cell_type": "code",
   "execution_count": null,
   "metadata": {},
   "outputs": [],
   "source": [
    "hash(float('inf'))"
   ]
  },
  {
   "cell_type": "code",
   "execution_count": null,
   "metadata": {},
   "outputs": [],
   "source": [
    "import sys\n",
    "\n",
    "sys.hash_info.inf"
   ]
  },
  {
   "cell_type": "markdown",
   "metadata": {},
   "source": [
    "---"
   ]
  },
  {
   "cell_type": "code",
   "execution_count": null,
   "metadata": {},
   "outputs": [],
   "source": [
    "path_to_in_file = \"\"\n",
    "\n",
    "with open(path_to_in_file) as in_file:\n",
    "    lstd_file = list(in_file)\n",
    "    key = list(\"\".encode())\n",
    "    encrypted_lstd_file = []\n",
    "    for item in range(len(lstd_file)):\n",
    "        encrypted_lstd_file.append(lstd_file[item] ^ key[item % len(key)])"
   ]
  },
  {
   "cell_type": "code",
   "execution_count": null,
   "metadata": {},
   "outputs": [],
   "source": [
    "decrypted_lstd_file = []\n",
    "for jtem in range(len(encrypted_lstd_file)):\n",
    "    decrypted_lstd_file.append(encrypted_lstd_file[jtem] ^ key[jtem % len(key)])"
   ]
  },
  {
   "cell_type": "code",
   "execution_count": null,
   "metadata": {},
   "outputs": [],
   "source": [
    "path_to_out_file = \"\"\n",
    "\n",
    "with open(path_to_out_file, \"w\") as out_file:\n",
    "    out_file.write()"
   ]
  }
 ],
 "metadata": {
  "kernelspec": {
   "display_name": "Python 3 (ipykernel)",
   "language": "python",
   "name": "python3"
  },
  "language_info": {
   "codemirror_mode": {
    "name": "ipython",
    "version": 3
   },
   "file_extension": ".py",
   "mimetype": "text/x-python",
   "name": "python",
   "nbconvert_exporter": "python",
   "pygments_lexer": "ipython3",
   "version": "3.11.2"
  }
 },
 "nbformat": 4,
 "nbformat_minor": 4
}
